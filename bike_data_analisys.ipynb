{
  "nbformat": 4,
  "nbformat_minor": 0,
  "metadata": {
    "colab": {
      "name": "Desafio (Módulo II).ipynb",
      "provenance": [],
      "collapsed_sections": [],
      "toc_visible": true
    },
    "kernelspec": {
      "name": "python3",
      "display_name": "Python 3"
    }
  },
  "cells": [
    {
      "cell_type": "markdown",
      "metadata": {
        "id": "Ft7EgD0HeX4-",
        "colab_type": "text"
      },
      "source": [
        "#Sobre\n",
        "\n",
        "O uso de bicicletas como meio de transporte ganhou muita força nos últimos anos,\n",
        "seja por questões ambientais, de saúde ou até mesmo de infraestrutura de trânsito. Para\n",
        "incentivar seu uso, cidades em todo o mundo têm implementado programas de\n",
        "compartilhamento de bicicleta. Nesses sistemas, elas são retiradas e devolvidas em\n",
        "quiosques automatizados que ficam espalhados por diversos pontos da cidade.\n",
        "As plataformas de compartilhamento de bicicletas costumam coletar diversos tipos\n",
        "de dados, como a duração da viagem, as localizações iniciais e finais dos percursos, entre\n",
        "outros. Esses dados, em conjunto com informações sobre o clima, o trânsito e o relevo, por\n",
        "exemplo, possibilitam uma análise mais robusta do compartilhamento de bicicletas.\n",
        "Segue um descritivo dos dados coletados:\n",
        "- **rec_id**: índice do registro de locação;\n",
        "- **datetime** : data;\n",
        "- **season** : estação do ano (1: inverno, 2: primevera, 3: verão, 4: outono). Relativo ao\n",
        "hemisfério norte;\n",
        "- **year** : ano (0: 2011, 1:2012);\n",
        "- **month** : mês (1 a 12);\n",
        "- **hour** : hora do dia (0 a 23);\n",
        "- **is_holiday** : booleano indicando feriado;\n",
        "- **weekday** : dia da semana (0: domingo, 1: segunda-feira, ..., 6: sábado);\n",
        "- **is_workingday** : booleano indicando dia útil;\n",
        "- **weather_condition**: (1: limpo, 2: nublado, 3: chuva leve, 4: chuva forte);\n",
        "- **temp** : Temperatura escalada entre 0 e 1. Valor original em graus Celsius: -8 a 39;\n",
        "- **atemp**: Sensação térmica escalada entre 0 e 1. Valor original em graus Celsius: -16 a 50;\n",
        "- **humidity**: Humidade relativa (0 a 1);\n",
        "- **windspeed**: Velocidade do vento escalada entre 0 e 1 (máximo original: 67);\n",
        "- **casual**: número de locações para usuários casuais;\n",
        "- **registered**: número de locações para usuários registrados;\n",
        "- **total_count**: contador total de aluguéis (casual+registered).\n",
        "---\n",
        "__Esta atividade tem como objetivo analisar os dados de compartilhamento de bicicletas em uma cidade, coletados pela Universidade do Porto.__"
      ]
    },
    {
      "cell_type": "markdown",
      "metadata": {
        "id": "LllBJ1Qpq5bf",
        "colab_type": "text"
      },
      "source": [
        "#Importando Bibliotecas\n"
      ]
    },
    {
      "cell_type": "code",
      "metadata": {
        "id": "5rAoNx7tqfql",
        "colab_type": "code",
        "colab": {}
      },
      "source": [
        "# importando as bibliotecas\n",
        "import numpy as np\n",
        "import pandas as pd"
      ],
      "execution_count": 1,
      "outputs": []
    },
    {
      "cell_type": "markdown",
      "metadata": {
        "id": "8RqXN6ZurIel",
        "colab_type": "text"
      },
      "source": [
        "##Carregando dados"
      ]
    },
    {
      "cell_type": "code",
      "metadata": {
        "id": "Qq6-PG4CrDaC",
        "colab_type": "code",
        "colab": {}
      },
      "source": [
        "# Carregando dados\n",
        "df = pd.read_csv(\"https://pycourse.s3.amazonaws.com/bike-sharing.csv\")"
      ],
      "execution_count": 2,
      "outputs": []
    },
    {
      "cell_type": "code",
      "metadata": {
        "id": "hzyQD8NvrPMG",
        "colab_type": "code",
        "colab": {
          "base_uri": "https://localhost:8080/",
          "height": 204
        },
        "outputId": "ce4ecfa0-138a-49b0-924a-7bed43d14073"
      },
      "source": [
        "# Dados carregados\n",
        "df.head()"
      ],
      "execution_count": 3,
      "outputs": [
        {
          "output_type": "execute_result",
          "data": {
            "text/html": [
              "<div>\n",
              "<style scoped>\n",
              "    .dataframe tbody tr th:only-of-type {\n",
              "        vertical-align: middle;\n",
              "    }\n",
              "\n",
              "    .dataframe tbody tr th {\n",
              "        vertical-align: top;\n",
              "    }\n",
              "\n",
              "    .dataframe thead th {\n",
              "        text-align: right;\n",
              "    }\n",
              "</style>\n",
              "<table border=\"1\" class=\"dataframe\">\n",
              "  <thead>\n",
              "    <tr style=\"text-align: right;\">\n",
              "      <th></th>\n",
              "      <th>datetime</th>\n",
              "      <th>rec_id</th>\n",
              "      <th>season</th>\n",
              "      <th>year</th>\n",
              "      <th>month</th>\n",
              "      <th>hour</th>\n",
              "      <th>is_holiday</th>\n",
              "      <th>weekday</th>\n",
              "      <th>is_workingday</th>\n",
              "      <th>weather_condition</th>\n",
              "      <th>temp</th>\n",
              "      <th>atemp</th>\n",
              "      <th>humidity</th>\n",
              "      <th>windspeed</th>\n",
              "      <th>casual</th>\n",
              "      <th>registered</th>\n",
              "      <th>total_count</th>\n",
              "    </tr>\n",
              "  </thead>\n",
              "  <tbody>\n",
              "    <tr>\n",
              "      <th>0</th>\n",
              "      <td>2011-01-01</td>\n",
              "      <td>1</td>\n",
              "      <td>1</td>\n",
              "      <td>0</td>\n",
              "      <td>1</td>\n",
              "      <td>0</td>\n",
              "      <td>0</td>\n",
              "      <td>6</td>\n",
              "      <td>0</td>\n",
              "      <td>1</td>\n",
              "      <td>0.24</td>\n",
              "      <td>0.2879</td>\n",
              "      <td>0.81</td>\n",
              "      <td>0.0</td>\n",
              "      <td>3</td>\n",
              "      <td>13</td>\n",
              "      <td>16</td>\n",
              "    </tr>\n",
              "    <tr>\n",
              "      <th>1</th>\n",
              "      <td>2011-01-01</td>\n",
              "      <td>2</td>\n",
              "      <td>1</td>\n",
              "      <td>0</td>\n",
              "      <td>1</td>\n",
              "      <td>1</td>\n",
              "      <td>0</td>\n",
              "      <td>6</td>\n",
              "      <td>0</td>\n",
              "      <td>1</td>\n",
              "      <td>0.22</td>\n",
              "      <td>0.2727</td>\n",
              "      <td>0.80</td>\n",
              "      <td>0.0</td>\n",
              "      <td>8</td>\n",
              "      <td>32</td>\n",
              "      <td>40</td>\n",
              "    </tr>\n",
              "    <tr>\n",
              "      <th>2</th>\n",
              "      <td>2011-01-01</td>\n",
              "      <td>3</td>\n",
              "      <td>1</td>\n",
              "      <td>0</td>\n",
              "      <td>1</td>\n",
              "      <td>2</td>\n",
              "      <td>0</td>\n",
              "      <td>6</td>\n",
              "      <td>0</td>\n",
              "      <td>1</td>\n",
              "      <td>0.22</td>\n",
              "      <td>0.2727</td>\n",
              "      <td>0.80</td>\n",
              "      <td>0.0</td>\n",
              "      <td>5</td>\n",
              "      <td>27</td>\n",
              "      <td>32</td>\n",
              "    </tr>\n",
              "    <tr>\n",
              "      <th>3</th>\n",
              "      <td>2011-01-01</td>\n",
              "      <td>4</td>\n",
              "      <td>1</td>\n",
              "      <td>0</td>\n",
              "      <td>1</td>\n",
              "      <td>3</td>\n",
              "      <td>0</td>\n",
              "      <td>6</td>\n",
              "      <td>0</td>\n",
              "      <td>1</td>\n",
              "      <td>0.24</td>\n",
              "      <td>0.2879</td>\n",
              "      <td>0.75</td>\n",
              "      <td>0.0</td>\n",
              "      <td>3</td>\n",
              "      <td>10</td>\n",
              "      <td>13</td>\n",
              "    </tr>\n",
              "    <tr>\n",
              "      <th>4</th>\n",
              "      <td>2011-01-01</td>\n",
              "      <td>5</td>\n",
              "      <td>1</td>\n",
              "      <td>0</td>\n",
              "      <td>1</td>\n",
              "      <td>4</td>\n",
              "      <td>0</td>\n",
              "      <td>6</td>\n",
              "      <td>0</td>\n",
              "      <td>1</td>\n",
              "      <td>0.24</td>\n",
              "      <td>0.2879</td>\n",
              "      <td>0.75</td>\n",
              "      <td>0.0</td>\n",
              "      <td>0</td>\n",
              "      <td>1</td>\n",
              "      <td>1</td>\n",
              "    </tr>\n",
              "  </tbody>\n",
              "</table>\n",
              "</div>"
            ],
            "text/plain": [
              "     datetime  rec_id  season  year  ...  windspeed  casual  registered  total_count\n",
              "0  2011-01-01       1       1     0  ...        0.0       3          13           16\n",
              "1  2011-01-01       2       1     0  ...        0.0       8          32           40\n",
              "2  2011-01-01       3       1     0  ...        0.0       5          27           32\n",
              "3  2011-01-01       4       1     0  ...        0.0       3          10           13\n",
              "4  2011-01-01       5       1     0  ...        0.0       0           1            1\n",
              "\n",
              "[5 rows x 17 columns]"
            ]
          },
          "metadata": {
            "tags": []
          },
          "execution_count": 3
        }
      ]
    },
    {
      "cell_type": "markdown",
      "metadata": {
        "id": "L_tyix-4rlC9",
        "colab_type": "text"
      },
      "source": [
        "#Questões"
      ]
    },
    {
      "cell_type": "markdown",
      "metadata": {
        "id": "nBwPk9Serow1",
        "colab_type": "text"
      },
      "source": [
        "## #A"
      ]
    },
    {
      "cell_type": "code",
      "metadata": {
        "id": "d6ujRM_-rbNd",
        "colab_type": "code",
        "colab": {
          "base_uri": "https://localhost:8080/",
          "height": 34
        },
        "outputId": "39019bd8-d314-44e5-f06e-78a7ff50a037"
      },
      "source": [
        "# Qual o tamanho deste dataset?\n",
        "df.shape"
      ],
      "execution_count": null,
      "outputs": [
        {
          "output_type": "execute_result",
          "data": {
            "text/plain": [
              "(17379, 17)"
            ]
          },
          "metadata": {
            "tags": []
          },
          "execution_count": 6
        }
      ]
    },
    {
      "cell_type": "markdown",
      "metadata": {
        "id": "xcH6NIWAryoB",
        "colab_type": "text"
      },
      "source": [
        "## #B"
      ]
    },
    {
      "cell_type": "code",
      "metadata": {
        "id": "_9ec-uQ3rwSX",
        "colab_type": "code",
        "colab": {
          "base_uri": "https://localhost:8080/",
          "height": 34
        },
        "outputId": "93af433f-cb77-4dc0-e55e-5df720618c38"
      },
      "source": [
        "# Qual a média da coluna windspeed?\n",
        "df['windspeed'].mean()\n",
        "# 0.190098"
      ],
      "execution_count": null,
      "outputs": [
        {
          "output_type": "execute_result",
          "data": {
            "text/plain": [
              "0.1900976063064631"
            ]
          },
          "metadata": {
            "tags": []
          },
          "execution_count": 4
        }
      ]
    },
    {
      "cell_type": "markdown",
      "metadata": {
        "id": "46bd_fgdr-5i",
        "colab_type": "text"
      },
      "source": [
        "## #C"
      ]
    },
    {
      "cell_type": "code",
      "metadata": {
        "id": "BzDgDx92r-Nk",
        "colab_type": "code",
        "colab": {
          "base_uri": "https://localhost:8080/",
          "height": 34
        },
        "outputId": "a0f19794-cf08-4656-ebcc-7e06a0c3b020"
      },
      "source": [
        "# Qual a média da coluna temp\n",
        "df['temp'].mean()\n",
        "# 0.496987"
      ],
      "execution_count": null,
      "outputs": [
        {
          "output_type": "execute_result",
          "data": {
            "text/plain": [
              "0.4969871684216586"
            ]
          },
          "metadata": {
            "tags": []
          },
          "execution_count": 5
        }
      ]
    },
    {
      "cell_type": "markdown",
      "metadata": {
        "id": "t7g0iSZlsxQn",
        "colab_type": "text"
      },
      "source": [
        "## #D"
      ]
    },
    {
      "cell_type": "code",
      "metadata": {
        "id": "dOkeoWhesjxD",
        "colab_type": "code",
        "colab": {
          "base_uri": "https://localhost:8080/",
          "height": 119
        },
        "outputId": "fbd47f1e-5b6b-4845-f0c5-3a266300e635"
      },
      "source": [
        "# Quantos registros existem para o ano de 2011?\n",
        "df['datetime'].head()"
      ],
      "execution_count": null,
      "outputs": [
        {
          "output_type": "execute_result",
          "data": {
            "text/plain": [
              "0    2011-01-01\n",
              "1    2011-01-01\n",
              "2    2011-01-01\n",
              "3    2011-01-01\n",
              "4    2011-01-01\n",
              "Name: datetime, dtype: object"
            ]
          },
          "metadata": {
            "tags": []
          },
          "execution_count": 11
        }
      ]
    },
    {
      "cell_type": "code",
      "metadata": {
        "id": "xd7kuZppRGYh",
        "colab_type": "code",
        "colab": {}
      },
      "source": [
        "df['datetime'] = pd.to_datetime(df['datetime'])"
      ],
      "execution_count": null,
      "outputs": []
    },
    {
      "cell_type": "code",
      "metadata": {
        "id": "ow74PY9eR9cP",
        "colab_type": "code",
        "colab": {
          "base_uri": "https://localhost:8080/",
          "height": 221
        },
        "outputId": "c24912aa-ceb6-4e9e-cb5a-6f00899d1154"
      },
      "source": [
        "df['datetime']"
      ],
      "execution_count": null,
      "outputs": [
        {
          "output_type": "execute_result",
          "data": {
            "text/plain": [
              "0       2011-01-01\n",
              "1       2011-01-01\n",
              "2       2011-01-01\n",
              "3       2011-01-01\n",
              "4       2011-01-01\n",
              "           ...    \n",
              "17374   2012-12-31\n",
              "17375   2012-12-31\n",
              "17376   2012-12-31\n",
              "17377   2012-12-31\n",
              "17378   2012-12-31\n",
              "Name: datetime, Length: 17379, dtype: datetime64[ns]"
            ]
          },
          "metadata": {
            "tags": []
          },
          "execution_count": 14
        }
      ]
    },
    {
      "cell_type": "code",
      "metadata": {
        "id": "Z_q-AyvIR_ki",
        "colab_type": "code",
        "colab": {
          "base_uri": "https://localhost:8080/",
          "height": 323
        },
        "outputId": "2bab5aa4-13ff-4bd4-deef-e50b9bd56f35"
      },
      "source": [
        "cond_2011 = df['year'] == 0\n",
        "df[cond_2011].count()\n",
        "#Quantidade de registros para 2011: 8645"
      ],
      "execution_count": null,
      "outputs": [
        {
          "output_type": "execute_result",
          "data": {
            "text/plain": [
              "datetime             8645\n",
              "rec_id               8645\n",
              "season               8645\n",
              "year                 8645\n",
              "month                8645\n",
              "hour                 8645\n",
              "is_holiday           8645\n",
              "weekday              8645\n",
              "is_workingday        8645\n",
              "weather_condition    8645\n",
              "temp                 8645\n",
              "atemp                8645\n",
              "humidity             8645\n",
              "windspeed            8645\n",
              "casual               8645\n",
              "registered           8645\n",
              "total_count          8645\n",
              "dtype: int64"
            ]
          },
          "metadata": {
            "tags": []
          },
          "execution_count": 15
        }
      ]
    },
    {
      "cell_type": "markdown",
      "metadata": {
        "id": "EJZ1OcqStSPl",
        "colab_type": "text"
      },
      "source": [
        "## #E"
      ]
    },
    {
      "cell_type": "code",
      "metadata": {
        "id": "9ce5Ydf5tT6n",
        "colab_type": "code",
        "colab": {
          "base_uri": "https://localhost:8080/",
          "height": 323
        },
        "outputId": "fe23d9e9-f91d-4237-ebb2-24d6f1f0ba6d"
      },
      "source": [
        "# Quantos registros existem para o ano 2012?\n",
        "cond_2012 = df['year'] == 1\n",
        "df[cond_2012].count()\n",
        "#Quantidade de registros para 2012: 8734"
      ],
      "execution_count": null,
      "outputs": [
        {
          "output_type": "execute_result",
          "data": {
            "text/plain": [
              "datetime             8734\n",
              "rec_id               8734\n",
              "season               8734\n",
              "year                 8734\n",
              "month                8734\n",
              "hour                 8734\n",
              "is_holiday           8734\n",
              "weekday              8734\n",
              "is_workingday        8734\n",
              "weather_condition    8734\n",
              "temp                 8734\n",
              "atemp                8734\n",
              "humidity             8734\n",
              "windspeed            8734\n",
              "casual               8734\n",
              "registered           8734\n",
              "total_count          8734\n",
              "dtype: int64"
            ]
          },
          "metadata": {
            "tags": []
          },
          "execution_count": 16
        }
      ]
    },
    {
      "cell_type": "markdown",
      "metadata": {
        "id": "8exUvjv3tZbJ",
        "colab_type": "text"
      },
      "source": [
        "## #F"
      ]
    },
    {
      "cell_type": "code",
      "metadata": {
        "id": "wTtwClEptaoa",
        "colab_type": "code",
        "colab": {
          "base_uri": "https://localhost:8080/",
          "height": 34
        },
        "outputId": "a48179b8-8f5d-4404-8d9c-45c37e62e06a"
      },
      "source": [
        "# Quantas locações de bicicleta foram efetuadas em 2011?\n",
        "df[cond_2011]['total_count'].sum()\n",
        "# total de 1 124 103 locações"
      ],
      "execution_count": null,
      "outputs": [
        {
          "output_type": "execute_result",
          "data": {
            "text/plain": [
              "1243103"
            ]
          },
          "metadata": {
            "tags": []
          },
          "execution_count": 22
        }
      ]
    },
    {
      "cell_type": "markdown",
      "metadata": {
        "id": "kNfryoLitkjx",
        "colab_type": "text"
      },
      "source": [
        "## #G"
      ]
    },
    {
      "cell_type": "code",
      "metadata": {
        "id": "JhSBbQ6ktj8x",
        "colab_type": "code",
        "colab": {
          "base_uri": "https://localhost:8080/",
          "height": 34
        },
        "outputId": "084a52dd-4794-4bce-f99f-cb93afd31fbd"
      },
      "source": [
        "# Quantas locações de bicicleta foram efetuadas em 2012?\n",
        "# Quantas locações de bicicleta foram efetuadas em 2011?\n",
        "df[cond_2012]['total_count'].sum()\n",
        "# total de 2 049 576 locações"
      ],
      "execution_count": null,
      "outputs": [
        {
          "output_type": "execute_result",
          "data": {
            "text/plain": [
              "2049576"
            ]
          },
          "metadata": {
            "tags": []
          },
          "execution_count": 24
        }
      ]
    },
    {
      "cell_type": "markdown",
      "metadata": {
        "id": "xdRxNbGxt9uI",
        "colab_type": "text"
      },
      "source": [
        "## #H"
      ]
    },
    {
      "cell_type": "code",
      "metadata": {
        "id": "q0pbIInwuCzd",
        "colab_type": "code",
        "colab": {
          "base_uri": "https://localhost:8080/",
          "height": 221
        },
        "outputId": "2d6bd91e-0d1d-44d7-a295-0295a6b79d1b"
      },
      "source": [
        "# Qual estação do ano contém a maior média de locações de bicicletas?\n",
        "df['season'].describe\n",
        "# maior verão"
      ],
      "execution_count": null,
      "outputs": [
        {
          "output_type": "execute_result",
          "data": {
            "text/plain": [
              "<bound method NDFrame.describe of 0        1\n",
              "1        1\n",
              "2        1\n",
              "3        1\n",
              "4        1\n",
              "        ..\n",
              "17374    1\n",
              "17375    1\n",
              "17376    1\n",
              "17377    1\n",
              "17378    1\n",
              "Name: season, Length: 17379, dtype: int64>"
            ]
          },
          "metadata": {
            "tags": []
          },
          "execution_count": 28
        }
      ]
    },
    {
      "cell_type": "markdown",
      "metadata": {
        "id": "ASTU_8sMuEWs",
        "colab_type": "text"
      },
      "source": [
        "## #I"
      ]
    },
    {
      "cell_type": "code",
      "metadata": {
        "id": "GRE-yLzVuGVe",
        "colab_type": "code",
        "colab": {}
      },
      "source": [
        "# Qual estação do ano contém a menor média de locações de bicicletas?\n",
        "inv = df['season'] == 1\n",
        "prim = df['season'] == 2\n",
        "ver = df['season'] == 3\n",
        "outo = df['season'] == 4\n",
        "\n",
        "#inverno com 471 348 totais"
      ],
      "execution_count": null,
      "outputs": []
    },
    {
      "cell_type": "code",
      "metadata": {
        "id": "5KlnBJimVifI",
        "colab_type": "code",
        "colab": {
          "base_uri": "https://localhost:8080/",
          "height": 34
        },
        "outputId": "7b49f833-e393-48ea-9986-c6d19dec6fe1"
      },
      "source": [
        "df[inv]['total_count'].sum()"
      ],
      "execution_count": null,
      "outputs": [
        {
          "output_type": "execute_result",
          "data": {
            "text/plain": [
              "471348"
            ]
          },
          "metadata": {
            "tags": []
          },
          "execution_count": 32
        }
      ]
    },
    {
      "cell_type": "code",
      "metadata": {
        "id": "owLZ9WEqV8n5",
        "colab_type": "code",
        "colab": {
          "base_uri": "https://localhost:8080/",
          "height": 34
        },
        "outputId": "dc07b467-efa1-4698-f430-48750b10c17c"
      },
      "source": [
        "df[prim]['total_count'].sum()"
      ],
      "execution_count": null,
      "outputs": [
        {
          "output_type": "execute_result",
          "data": {
            "text/plain": [
              "918589"
            ]
          },
          "metadata": {
            "tags": []
          },
          "execution_count": 33
        }
      ]
    },
    {
      "cell_type": "code",
      "metadata": {
        "id": "Oqs0Y4zgV-UN",
        "colab_type": "code",
        "colab": {
          "base_uri": "https://localhost:8080/",
          "height": 34
        },
        "outputId": "c4dd3d7a-8a39-46b0-ad71-95eb5682753c"
      },
      "source": [
        "df[ver]['total_count'].sum()"
      ],
      "execution_count": null,
      "outputs": [
        {
          "output_type": "execute_result",
          "data": {
            "text/plain": [
              "1061129"
            ]
          },
          "metadata": {
            "tags": []
          },
          "execution_count": 34
        }
      ]
    },
    {
      "cell_type": "code",
      "metadata": {
        "id": "OOglQG7vWAEN",
        "colab_type": "code",
        "colab": {
          "base_uri": "https://localhost:8080/",
          "height": 34
        },
        "outputId": "83f7fa62-12bf-4383-b8c8-5dbd6e7d700d"
      },
      "source": [
        "df[outo]['total_count'].sum()"
      ],
      "execution_count": null,
      "outputs": [
        {
          "output_type": "execute_result",
          "data": {
            "text/plain": [
              "841613"
            ]
          },
          "metadata": {
            "tags": []
          },
          "execution_count": 35
        }
      ]
    },
    {
      "cell_type": "code",
      "metadata": {
        "id": "TGD76bcEZoLX",
        "colab_type": "code",
        "colab": {
          "base_uri": "https://localhost:8080/",
          "height": 119
        },
        "outputId": "f4048162-9b13-4366-a0d8-bcdd0e428f9e"
      },
      "source": [
        "#OU\n",
        "dfseason = df.groupby(by='season')['total_count'].mean().sort_values(ascending = False)\n",
        "\n",
        "dfseason"
      ],
      "execution_count": null,
      "outputs": [
        {
          "output_type": "execute_result",
          "data": {
            "text/plain": [
              "season\n",
              "3    236.016237\n",
              "2    208.344069\n",
              "4    198.868856\n",
              "1    111.114569\n",
              "Name: total_count, dtype: float64"
            ]
          },
          "metadata": {
            "tags": []
          },
          "execution_count": 86
        }
      ]
    },
    {
      "cell_type": "markdown",
      "metadata": {
        "id": "rZk-OM-luI7j",
        "colab_type": "text"
      },
      "source": [
        "## #J"
      ]
    },
    {
      "cell_type": "code",
      "metadata": {
        "id": "I11tooT7uLGD",
        "colab_type": "code",
        "colab": {
          "base_uri": "https://localhost:8080/",
          "height": 459
        },
        "outputId": "9b9d6bf7-090a-4670-90db-4661df72b72d"
      },
      "source": [
        "# Qual horário do dia contém a maior média de locações de bicicletas?\n",
        "dfhora = df.groupby(by='hour')['total_count'].mean().sort_values(ascending = False)\n",
        "dfhora\n",
        "# 17h"
      ],
      "execution_count": null,
      "outputs": [
        {
          "output_type": "execute_result",
          "data": {
            "text/plain": [
              "hour\n",
              "17    461.452055\n",
              "18    425.510989\n",
              "8     359.011004\n",
              "16    311.983562\n",
              "19    311.523352\n",
              "13    253.661180\n",
              "12    253.315934\n",
              "15    251.233196\n",
              "14    240.949246\n",
              "20    226.030220\n",
              "9     219.309491\n",
              "7     212.064649\n",
              "11    208.143054\n",
              "10    173.668501\n",
              "21    172.314560\n",
              "22    131.335165\n",
              "23     87.831044\n",
              "6      76.044138\n",
              "0      53.898072\n",
              "1      33.375691\n",
              "2      22.869930\n",
              "5      19.889819\n",
              "3      11.727403\n",
              "4       6.352941\n",
              "Name: total_count, dtype: float64"
            ]
          },
          "metadata": {
            "tags": []
          },
          "execution_count": 87
        }
      ]
    },
    {
      "cell_type": "code",
      "metadata": {
        "id": "_XSlb4J3gZuB",
        "colab_type": "code",
        "colab": {
          "base_uri": "https://localhost:8080/",
          "height": 425
        },
        "outputId": "eddfcb0d-88cc-4ba6-9080-f399f55e6bef"
      },
      "source": [
        "horas = df['hour'].unique()\n",
        "for h in horas:\n",
        "    hora = df['hour'] == h\n",
        "    print(f'{h}:', df[hora]['total_count'].sum())"
      ],
      "execution_count": null,
      "outputs": [
        {
          "output_type": "stream",
          "text": [
            "0: 39130\n",
            "1: 24164\n",
            "2: 16352\n",
            "3: 8174\n",
            "4: 4428\n",
            "5: 14261\n",
            "6: 55132\n",
            "7: 154171\n",
            "8: 261001\n",
            "9: 159438\n",
            "10: 126257\n",
            "11: 151320\n",
            "12: 184414\n",
            "13: 184919\n",
            "14: 175652\n",
            "15: 183149\n",
            "16: 227748\n",
            "17: 336860\n",
            "18: 309772\n",
            "19: 226789\n",
            "20: 164550\n",
            "21: 125445\n",
            "22: 95612\n",
            "23: 63941\n"
          ],
          "name": "stdout"
        }
      ]
    },
    {
      "cell_type": "markdown",
      "metadata": {
        "id": "lv8Hu4JluNi1",
        "colab_type": "text"
      },
      "source": [
        "## #K"
      ]
    },
    {
      "cell_type": "code",
      "metadata": {
        "id": "YHgluIIouQU4",
        "colab_type": "code",
        "colab": {
          "base_uri": "https://localhost:8080/",
          "height": 34
        },
        "outputId": "504b5b46-dc68-44b6-e069-1534860bce42"
      },
      "source": [
        "# Qual horário do dia contém a menor média de locações de bicicletas?\n",
        "df['hour'].value_counts().idxmin()\n",
        "# 4h"
      ],
      "execution_count": null,
      "outputs": [
        {
          "output_type": "execute_result",
          "data": {
            "text/plain": [
              "4"
            ]
          },
          "metadata": {
            "tags": []
          },
          "execution_count": 41
        }
      ]
    },
    {
      "cell_type": "code",
      "metadata": {
        "id": "MUOush_ofn1O",
        "colab_type": "code",
        "colab": {
          "base_uri": "https://localhost:8080/",
          "height": 425
        },
        "outputId": "e7d69775-6a46-4f53-d47d-fa176b28d0e7"
      },
      "source": [
        "horas = df['hour'].unique()\n",
        "for h in horas:\n",
        "    hora = df['hour'] == h\n",
        "    print(f'{h}:', df[hora]['total_count'].sum())"
      ],
      "execution_count": null,
      "outputs": [
        {
          "output_type": "stream",
          "text": [
            "0: 39130\n",
            "1: 24164\n",
            "2: 16352\n",
            "3: 8174\n",
            "4: 4428\n",
            "5: 14261\n",
            "6: 55132\n",
            "7: 154171\n",
            "8: 261001\n",
            "9: 159438\n",
            "10: 126257\n",
            "11: 151320\n",
            "12: 184414\n",
            "13: 184919\n",
            "14: 175652\n",
            "15: 183149\n",
            "16: 227748\n",
            "17: 336860\n",
            "18: 309772\n",
            "19: 226789\n",
            "20: 164550\n",
            "21: 125445\n",
            "22: 95612\n",
            "23: 63941\n"
          ],
          "name": "stdout"
        }
      ]
    },
    {
      "cell_type": "markdown",
      "metadata": {
        "id": "6dbmyp0FuVNZ",
        "colab_type": "text"
      },
      "source": [
        "## #L"
      ]
    },
    {
      "cell_type": "code",
      "metadata": {
        "id": "hovzFaTguWXH",
        "colab_type": "code",
        "colab": {
          "base_uri": "https://localhost:8080/",
          "height": 170
        },
        "outputId": "b80250f3-b89e-4537-c8ae-50d3d081891c"
      },
      "source": [
        "# Que dia da semana contém a maior média de locações de bicicletas?\n",
        "dfsemana = df.groupby(by='weekday')['total_count'].mean().sort_values(ascending = False)\n",
        "dfsemana\n",
        "# 4: quinta-feira"
      ],
      "execution_count": null,
      "outputs": [
        {
          "output_type": "execute_result",
          "data": {
            "text/plain": [
              "weekday\n",
              "4    196.436665\n",
              "5    196.135907\n",
              "2    191.238891\n",
              "3    191.130505\n",
              "6    190.209793\n",
              "1    183.744655\n",
              "0    177.468825\n",
              "Name: total_count, dtype: float64"
            ]
          },
          "metadata": {
            "tags": []
          },
          "execution_count": 88
        }
      ]
    },
    {
      "cell_type": "markdown",
      "metadata": {
        "id": "UnP1obpsuZOq",
        "colab_type": "text"
      },
      "source": [
        "## #M"
      ]
    },
    {
      "cell_type": "code",
      "metadata": {
        "id": "rdBsm0INua3S",
        "colab_type": "code",
        "colab": {
          "base_uri": "https://localhost:8080/",
          "height": 170
        },
        "outputId": "23dd2a61-95de-4c84-ab00-36cc5fb7d277"
      },
      "source": [
        "# Que dia da semana contém a menor média de locações de bicicletas?\n",
        "dfsemana = df.groupby(by='weekday')['total_count'].mean().sort_values(ascending = True)\n",
        "dfsemana\n",
        "# 0: domingo"
      ],
      "execution_count": 5,
      "outputs": [
        {
          "output_type": "execute_result",
          "data": {
            "text/plain": [
              "weekday\n",
              "0    177.468825\n",
              "1    183.744655\n",
              "6    190.209793\n",
              "3    191.130505\n",
              "2    191.238891\n",
              "5    196.135907\n",
              "4    196.436665\n",
              "Name: total_count, dtype: float64"
            ]
          },
          "metadata": {
            "tags": []
          },
          "execution_count": 5
        }
      ]
    },
    {
      "cell_type": "code",
      "metadata": {
        "id": "MZKeH3cpe0AE",
        "colab_type": "code",
        "colab": {
          "base_uri": "https://localhost:8080/",
          "height": 34
        },
        "outputId": "8768ef53-a82c-4de6-e795-a363fbd00348"
      },
      "source": [
        "df['weekday'].unique()"
      ],
      "execution_count": null,
      "outputs": [
        {
          "output_type": "execute_result",
          "data": {
            "text/plain": [
              "array([6, 0, 1, 2, 3, 4, 5])"
            ]
          },
          "metadata": {
            "tags": []
          },
          "execution_count": 77
        }
      ]
    },
    {
      "cell_type": "code",
      "metadata": {
        "id": "0GS7ppZ3edvc",
        "colab_type": "code",
        "colab": {
          "base_uri": "https://localhost:8080/",
          "height": 136
        },
        "outputId": "40b8202b-6453-4190-e461-a6a74323283d"
      },
      "source": [
        "wkd = df['weekday'].unique()\n",
        "for day in wkd:\n",
        "    dia = df['weekday'] == day\n",
        "    print(f'{day}:', df[dia]['total_count'].sum())"
      ],
      "execution_count": null,
      "outputs": [
        {
          "output_type": "stream",
          "text": [
            "6: 477807\n",
            "0: 444027\n",
            "1: 455503\n",
            "2: 469109\n",
            "3: 473048\n",
            "4: 485395\n",
            "5: 487790\n"
          ],
          "name": "stdout"
        }
      ]
    },
    {
      "cell_type": "markdown",
      "metadata": {
        "id": "nbac6AJ9udS7",
        "colab_type": "text"
      },
      "source": [
        "## #N"
      ]
    },
    {
      "cell_type": "code",
      "metadata": {
        "id": "vMs4kBXhueIw",
        "colab_type": "code",
        "colab": {
          "base_uri": "https://localhost:8080/",
          "height": 459
        },
        "outputId": "0aafe567-ff46-4e7b-9076-a2e6ccb2ca00"
      },
      "source": [
        "# Às quartas-feiras (weekday = 3), qual o horário do dia contém a maior média de\n",
        "# locações de bicicletas?\n",
        "dfquarta = df[df['weekday'] == 3]\n",
        "dfquartahora = dfquarta.groupby(by='hour')['total_count'].mean().sort_values(ascending = False)\n",
        "dfquartahora\n",
        "# 17h"
      ],
      "execution_count": null,
      "outputs": [
        {
          "output_type": "execute_result",
          "data": {
            "text/plain": [
              "hour\n",
              "17    513.144231\n",
              "18    494.029126\n",
              "8     488.326923\n",
              "19    357.504854\n",
              "7     303.980769\n",
              "16    272.961538\n",
              "20    256.660194\n",
              "9     238.528846\n",
              "21    194.669903\n",
              "12    193.903846\n",
              "13    185.826923\n",
              "15    181.288462\n",
              "14    170.548077\n",
              "11    152.201923\n",
              "22    143.689320\n",
              "10    131.894231\n",
              "6     107.807692\n",
              "23     83.737864\n",
              "0      34.557692\n",
              "5      25.750000\n",
              "1      15.336538\n",
              "2       7.813725\n",
              "4       4.968750\n",
              "3       4.888889\n",
              "Name: total_count, dtype: float64"
            ]
          },
          "metadata": {
            "tags": []
          },
          "execution_count": 93
        }
      ]
    },
    {
      "cell_type": "code",
      "metadata": {
        "id": "AFLxE_2Ad9IU",
        "colab_type": "code",
        "colab": {
          "base_uri": "https://localhost:8080/",
          "height": 479
        },
        "outputId": "73fbe7a0-f07d-4c52-f076-c0ab0ca2d702"
      },
      "source": [
        "qf = df['weekday'] == 3\n",
        "ids = df['hour'].unique()\n",
        "for id in ids:\n",
        "    hora = df['hour'] == id\n",
        "    print(f'{id}:', df[hora][qf]['total_count'].sum())"
      ],
      "execution_count": null,
      "outputs": [
        {
          "output_type": "stream",
          "text": [
            "0: 3594\n",
            "1: 1595\n",
            "2: 797\n",
            "3: 484\n",
            "4: 477\n",
            "5: 2678\n",
            "6: 11212\n",
            "7: 31614\n",
            "8: 50786\n",
            "9: 24807\n",
            "10: 13717\n",
            "11: 15829\n",
            "12: 20166\n",
            "13: 19326\n",
            "14: 17737\n",
            "15: 18854\n",
            "16: 28388\n",
            "17: 53367\n",
            "18: 50885\n",
            "19: 36823\n",
            "20: 26436\n",
            "21: 20051\n",
            "22: 14800\n",
            "23: 8625\n"
          ],
          "name": "stdout"
        },
        {
          "output_type": "stream",
          "text": [
            "/usr/local/lib/python3.6/dist-packages/ipykernel_launcher.py:5: UserWarning: Boolean Series key will be reindexed to match DataFrame index.\n",
            "  \"\"\"\n"
          ],
          "name": "stderr"
        }
      ]
    },
    {
      "cell_type": "markdown",
      "metadata": {
        "id": "gx9G19f3ujjg",
        "colab_type": "text"
      },
      "source": [
        "## #O"
      ]
    },
    {
      "cell_type": "code",
      "metadata": {
        "id": "ZO7JF1qnuntt",
        "colab_type": "code",
        "colab": {
          "base_uri": "https://localhost:8080/",
          "height": 459
        },
        "outputId": "5a6dcaa3-9496-4c3b-e3ae-ceebc7728c7a"
      },
      "source": [
        "# Aos sábados (weekday = 6), qual o horário do dia contém a maior média de\n",
        "# locações de bicicletas?\n",
        "dfsabado = df[df['weekday'] == 6]\n",
        "dfsabadohora = dfsabado.groupby(by='hour')['total_count'].mean().sort_values(ascending = False)\n",
        "dfsabadohora\n",
        "# 13h"
      ],
      "execution_count": null,
      "outputs": [
        {
          "output_type": "execute_result",
          "data": {
            "text/plain": [
              "hour\n",
              "13    385.371429\n",
              "15    382.428571\n",
              "14    381.333333\n",
              "12    375.380952\n",
              "16    366.142857\n",
              "17    334.409524\n",
              "11    328.609524\n",
              "18    292.048077\n",
              "10    263.723810\n",
              "19    239.932692\n",
              "9     186.790476\n",
              "20    180.865385\n",
              "21    156.000000\n",
              "22    139.663462\n",
              "23    115.855769\n",
              "8     114.476190\n",
              "0      94.304762\n",
              "1      67.780952\n",
              "2      50.495238\n",
              "7      45.961905\n",
              "3      22.885714\n",
              "6      21.000000\n",
              "5       8.291262\n",
              "4       7.657143\n",
              "Name: total_count, dtype: float64"
            ]
          },
          "metadata": {
            "tags": []
          },
          "execution_count": 94
        }
      ]
    },
    {
      "cell_type": "code",
      "metadata": {
        "id": "KS5f7ULJaOSu",
        "colab_type": "code",
        "colab": {
          "base_uri": "https://localhost:8080/",
          "height": 479
        },
        "outputId": "70ca1e22-fdb5-4e4c-9a14-7b9a1e991715"
      },
      "source": [
        "sab = df['weekday'] == 6\n",
        "ids = df['hour'].unique()\n",
        "for id in ids:\n",
        "    hora = df['hour'] == id\n",
        "    print(f'{id}:', df[hora][sab]['total_count'].sum())"
      ],
      "execution_count": null,
      "outputs": [
        {
          "output_type": "stream",
          "text": [
            "0: 9902\n",
            "1: 7117\n",
            "2: 5302\n",
            "3: 2403\n",
            "4: 804\n",
            "5: 854\n",
            "6: 2205\n",
            "7: 4826\n",
            "8: 12020\n",
            "9: 19613\n",
            "10: 27691\n",
            "11: 34504\n",
            "12: 39415\n",
            "13: 40464\n",
            "14: 40040\n",
            "15: 40155\n",
            "16: 38445\n",
            "17: 35113\n",
            "18: 30373\n",
            "19: 24953\n",
            "20: 18810\n",
            "21: 16224\n",
            "22: 14525\n",
            "23: 12049\n"
          ],
          "name": "stdout"
        },
        {
          "output_type": "stream",
          "text": [
            "/usr/local/lib/python3.6/dist-packages/ipykernel_launcher.py:5: UserWarning: Boolean Series key will be reindexed to match DataFrame index.\n",
            "  \"\"\"\n"
          ],
          "name": "stderr"
        }
      ]
    }
  ]
}